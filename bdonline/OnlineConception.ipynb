{
 "cells": [
  {
   "cell_type": "code",
   "execution_count": null,
   "metadata": {
    "collapsed": true
   },
   "outputs": [],
   "source": [
    "# stuff goes in -> predictions go out\n",
    "# supplier (has more data?)\n",
    "# predictor\n",
    "# trainer\n",
    "# processor\n",
    "# buffer (fixed class)\n",
    "# storer (fixed class)\n",
    "# predictionsender\n",
    "\n",
    "\n",
    "#online experiment has like run one iteration \n",
    "# if supplier.will_have_more_data():\n",
    "#    run_one_iteration()\n",
    "# run one iteration:\n",
    "# data = supplier.wait_for_data()\n",
    "# data = processor.process(data)\n",
    "# buffer.buffer(data)\n",
    "# self.store_data(data) # or storer\n",
    "#   \n",
    "# predictor.new_data_available(buffer)\n",
    "# if predictor.has_new_prediction():\n",
    "#    i_sample, prediction = predictor.pop_prediction()\n",
    "#    sender.send_prediction(prediction)\n",
    "#    self.store_prediction(i_sample, prediction) # or storer\n",
    "# trainer.new_data_available(buffer)\n",
    "# \n",
    "\n",
    "# and we call UI prediction_receiver now!\n",
    "# and other server datasender or just datahost/receiverhost hostsender hostreceiver\n"
   ]
  },
  {
   "cell_type": "code",
   "execution_count": null,
   "metadata": {
    "collapsed": true
   },
   "outputs": [],
   "source": [
    "%load_ext autoreload\n",
    "%autoreload 2"
   ]
  },
  {
   "cell_type": "code",
   "execution_count": null,
   "metadata": {
    "collapsed": true
   },
   "outputs": [],
   "source": [
    "import sys\n",
    "sys.path.append('/home/schirrmr/braindecode/code/braindecode-online/')"
   ]
  },
  {
   "cell_type": "code",
   "execution_count": null,
   "metadata": {
    "scrolled": true
   },
   "outputs": [],
   "source": [
    "import numpy as np\n",
    "\n",
    "from bdonline.senders import PrintSender\n",
    "from bdonline.datasuppliers import ArraySupplier\n",
    "from bdonline.experiment import OnlineExperiment\n",
    "from bdonline.buffer import DataMarkerBuffer\n",
    "from bdonline.predictors import DummyPredictor\n",
    "from bdonline.processors import StandardizeProcessor\n",
    "from bdonline.trainers import DummyTrainer\n",
    "supplier = ArraySupplier(np.ones((100,2)), np.ones(100), 10,)\n",
    "exp = OnlineExperiment(\n",
    "    supplier, DataMarkerBuffer(2,5), StandardizeProcessor(),\n",
    "    DummyPredictor(), DummyTrainer(), PrintSender())\n",
    "exp.run()"
   ]
  },
  {
   "cell_type": "code",
   "execution_count": null,
   "metadata": {},
   "outputs": [],
   "source": [
    "supplier = ArraySupplier(np.array((np.arange(9), np.arange(0,-9,-1))).T,  np.arange(10,19), 3)\n",
    "assert supplier.i_next_sample == 0\n",
    "data, marker = supplier.wait_for_data()\n",
    "assert np.array_equal(data, [[0,0],[1,-1],[2,-2]])\n",
    "assert np.array_equal(marker, [10,11,12])\n",
    "assert supplier.i_next_sample == 3\n",
    "data, marker = supplier.wait_for_data()\n",
    "assert np.array_equal(data, [[3,-3],[4,-4],[5,-5]])\n",
    "assert np.array_equal(marker, [13,14,15])\n",
    "assert supplier.i_next_sample == 6\n",
    "data, marker = supplier.wait_for_data()\n",
    "assert np.array_equal(data, [[6,-6],[7,-7],[8,-8]])\n",
    "assert np.array_equal(marker, [16,17,18])\n",
    "assert supplier.i_next_sample == 9\n",
    "data_and_marker = supplier.wait_for_data()\n",
    "assert data_and_marker is None\n",
    "assert supplier.i_next_sample == 9"
   ]
  },
  {
   "cell_type": "code",
   "execution_count": null,
   "metadata": {
    "collapsed": true
   },
   "outputs": [],
   "source": []
  },
  {
   "cell_type": "code",
   "execution_count": null,
   "metadata": {
    "collapsed": true
   },
   "outputs": [],
   "source": []
  },
  {
   "cell_type": "code",
   "execution_count": null,
   "metadata": {
    "collapsed": true
   },
   "outputs": [],
   "source": []
  }
 ],
 "metadata": {
  "kernelspec": {
   "display_name": "Python 3",
   "language": "python",
   "name": "python3"
  },
  "language_info": {
   "codemirror_mode": {
    "name": "ipython",
    "version": 3
   },
   "file_extension": ".py",
   "mimetype": "text/x-python",
   "name": "python",
   "nbconvert_exporter": "python",
   "pygments_lexer": "ipython3",
   "version": "3.6.2"
  }
 },
 "nbformat": 4,
 "nbformat_minor": 2
}
